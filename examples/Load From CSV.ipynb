{
 "cells": [
  {
   "cell_type": "markdown",
   "id": "2da1d932-cc51-405a-afee-fc11d9d0edfe",
   "metadata": {},
   "source": [
    "# Imports"
   ]
  },
  {
   "cell_type": "code",
   "execution_count": 1,
   "id": "16807a80-a7e5-4326-aeca-2f64a045bae5",
   "metadata": {},
   "outputs": [],
   "source": [
    "using DataFrames\n",
    "using CSV"
   ]
  },
  {
   "cell_type": "markdown",
   "id": "4e305128-845a-4ee3-a6c7-25cbb0e2c4fb",
   "metadata": {},
   "source": [
    "# Load Data"
   ]
  },
  {
   "cell_type": "markdown",
   "id": "5c0e28f0-befc-4060-8275-ab401dba0c83",
   "metadata": {},
   "source": [
    "`CSV.File` takes an optional parameter `missingstring` which can be used to specify how `missing` values have been encoded in your data."
   ]
  },
  {
   "cell_type": "code",
   "execution_count": 2,
   "id": "855462cb-ea6f-4824-aa01-43ecf9822801",
   "metadata": {},
   "outputs": [
    {
     "data": {
      "text/html": [
       "<div class=\"data-frame\"><p>20 rows × 5 columns</p><table class=\"data-frame\"><thead><tr><th></th><th>HouseID</th><th>Price</th><th>Beds</th><th>Baths</th><th>Sqft</th></tr><tr><th></th><th title=\"Int64\">Int64</th><th title=\"Int64\">Int64</th><th title=\"String3\">String3</th><th title=\"String3\">String3</th><th title=\"Int64\">Int64</th></tr></thead><tbody><tr><th>1</th><td>1</td><td>550000</td><td>2</td><td>3</td><td>1245</td></tr><tr><th>2</th><td>2</td><td>295000</td><td>2</td><td>2</td><td>987</td></tr><tr><th>3</th><td>3</td><td>1400000</td><td>4</td><td>3</td><td>2806</td></tr><tr><th>4</th><td>4</td><td>510000</td><td>2</td><td>2</td><td>1138</td></tr><tr><th>5</th><td>5</td><td>680000</td><td>2</td><td>1</td><td>1040</td></tr><tr><th>6</th><td>6</td><td>799950</td><td>3</td><td>3</td><td>1954</td></tr><tr><th>7</th><td>7</td><td>1040000</td><td>3</td><td>2</td><td>2360</td></tr><tr><th>8</th><td>8</td><td>865000</td><td></td><td></td><td>2560</td></tr><tr><th>9</th><td>9</td><td>768000</td><td>3</td><td>3</td><td>1440</td></tr><tr><th>10</th><td>10</td><td>1150000</td><td>5</td><td>2</td><td>2600</td></tr><tr><th>11</th><td>11</td><td>2220000</td><td>4</td><td>4</td><td>3590</td></tr><tr><th>12</th><td>12</td><td>700000</td><td>2</td><td>1</td><td>1580</td></tr><tr><th>13</th><td>13</td><td>975000</td><td>3</td><td>3</td><td>1300</td></tr><tr><th>14</th><td>14</td><td>25000</td><td>1</td><td>1</td><td>490</td></tr><tr><th>15</th><td>15</td><td>669000</td><td>2</td><td>2</td><td>915</td></tr><tr><th>16</th><td>16</td><td>690000</td><td>3</td><td>2</td><td>1112</td></tr><tr><th>17</th><td>17</td><td>379000</td><td>2</td><td>1</td><td>930</td></tr><tr><th>18</th><td>18</td><td>424000</td><td>1</td><td>1</td><td>633</td></tr><tr><th>19</th><td>19</td><td>500000</td><td>2</td><td>2</td><td>853</td></tr><tr><th>20</th><td>20</td><td>875000</td><td>3</td><td>4</td><td>1740</td></tr></tbody></table></div>"
      ],
      "text/latex": [
       "\\begin{tabular}{r|ccccc}\n",
       "\t& HouseID & Price & Beds & Baths & Sqft\\\\\n",
       "\t\\hline\n",
       "\t& Int64 & Int64 & String3 & String3 & Int64\\\\\n",
       "\t\\hline\n",
       "\t1 & 1 & 550000 & 2 & 3 & 1245 \\\\\n",
       "\t2 & 2 & 295000 & 2 & 2 & 987 \\\\\n",
       "\t3 & 3 & 1400000 & 4 & 3 & 2806 \\\\\n",
       "\t4 & 4 & 510000 & 2 & 2 & 1138 \\\\\n",
       "\t5 & 5 & 680000 & 2 & 1 & 1040 \\\\\n",
       "\t6 & 6 & 799950 & 3 & 3 & 1954 \\\\\n",
       "\t7 & 7 & 1040000 & 3 & 2 & 2360 \\\\\n",
       "\t8 & 8 & 865000 &  &  & 2560 \\\\\n",
       "\t9 & 9 & 768000 & 3 & 3 & 1440 \\\\\n",
       "\t10 & 10 & 1150000 & 5 & 2 & 2600 \\\\\n",
       "\t11 & 11 & 2220000 & 4 & 4 & 3590 \\\\\n",
       "\t12 & 12 & 700000 & 2 & 1 & 1580 \\\\\n",
       "\t13 & 13 & 975000 & 3 & 3 & 1300 \\\\\n",
       "\t14 & 14 & 25000 & 1 & 1 & 490 \\\\\n",
       "\t15 & 15 & 669000 & 2 & 2 & 915 \\\\\n",
       "\t16 & 16 & 690000 & 3 & 2 & 1112 \\\\\n",
       "\t17 & 17 & 379000 & 2 & 1 & 930 \\\\\n",
       "\t18 & 18 & 424000 & 1 & 1 & 633 \\\\\n",
       "\t19 & 19 & 500000 & 2 & 2 & 853 \\\\\n",
       "\t20 & 20 & 875000 & 3 & 4 & 1740 \\\\\n",
       "\\end{tabular}\n"
      ],
      "text/plain": [
       "\u001b[1m20×5 DataFrame\u001b[0m\n",
       "\u001b[1m Row \u001b[0m│\u001b[1m HouseID \u001b[0m\u001b[1m Price   \u001b[0m\u001b[1m Beds    \u001b[0m\u001b[1m Baths   \u001b[0m\u001b[1m Sqft  \u001b[0m\n",
       "\u001b[1m     \u001b[0m│\u001b[90m Int64   \u001b[0m\u001b[90m Int64   \u001b[0m\u001b[90m String3 \u001b[0m\u001b[90m String3 \u001b[0m\u001b[90m Int64 \u001b[0m\n",
       "─────┼───────────────────────────────────────────\n",
       "   1 │       1   550000  2        3         1245\n",
       "   2 │       2   295000  2        2          987\n",
       "   3 │       3  1400000  4        3         2806\n",
       "   4 │       4   510000  2        2         1138\n",
       "   5 │       5   680000  2        1         1040\n",
       "   6 │       6   799950  3        3         1954\n",
       "   7 │       7  1040000  3        2         2360\n",
       "   8 │       8   865000                     2560\n",
       "   9 │       9   768000  3        3         1440\n",
       "  10 │      10  1150000  5        2         2600\n",
       "  11 │      11  2220000  4        4         3590\n",
       "  12 │      12   700000  2        1         1580\n",
       "  13 │      13   975000  3        3         1300\n",
       "  14 │      14    25000  1        1          490\n",
       "  15 │      15   669000  2        2          915\n",
       "  16 │      16   690000  3        2         1112\n",
       "  17 │      17   379000  2        1          930\n",
       "  18 │      18   424000  1        1          633\n",
       "  19 │      19   500000  2        2          853\n",
       "  20 │      20   875000  3        4         1740"
      ]
     },
     "metadata": {},
     "output_type": "display_data"
    }
   ],
   "source": [
    "filename = \"example.csv\"\n",
    "data = DataFrame(CSV.File(filename, missingstring=\"#N/A\"))\n",
    "display(data)"
   ]
  },
  {
   "cell_type": "code",
   "execution_count": null,
   "id": "2c01889d-01e0-4345-afce-f41351e63ca2",
   "metadata": {},
   "outputs": [],
   "source": []
  }
 ],
 "metadata": {
  "kernelspec": {
   "display_name": "Julia 1.7.1",
   "language": "julia",
   "name": "julia-1.7"
  },
  "language_info": {
   "file_extension": ".jl",
   "mimetype": "application/julia",
   "name": "julia",
   "version": "1.7.1"
  }
 },
 "nbformat": 4,
 "nbformat_minor": 5
}
